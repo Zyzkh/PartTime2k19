{
 "cells": [
  {
   "cell_type": "markdown",
   "metadata": {},
   "source": [
    "# Correction exercie S1-A \n",
    "\n",
    "## Consigne : construire un quiz\n",
    "\n",
    "Voir le détail de la consigne [dans le drive](https://docs.google.com/document/d/1u3RNNQmYBOfyycZu8wI3D8rGz7tv3pXMnP_6DwVWMKM/edit#). \n",
    "\n"
   ]
  },
  {
   "cell_type": "code",
   "execution_count": 1,
   "metadata": {},
   "outputs": [
    {
     "name": "stdout",
     "output_type": "stream",
     "text": [
      "Voici notre quiz, tu as trois chances !\n",
      "Combien de fois la France a gagné la coupe du monde ?1\n"
     ]
    }
   ],
   "source": [
    "#poser une question : la méthode input \n",
    "nb_de_chances = 3\n",
    "print(\"Voici notre quiz, tu as trois chances !\")\n",
    "question1= input(\"Combien de fois la France a gagné la coupe du monde ?\")"
   ]
  },
  {
   "cell_type": "code",
   "execution_count": 2,
   "metadata": {},
   "outputs": [
    {
     "name": "stdout",
     "output_type": "stream",
     "text": [
      "Dommage ! Il te reste 2 chances\n",
      "Combien de fois la France a gagné la coupe du monde ?2\n"
     ]
    }
   ],
   "source": [
    "while question1 != \"2\":\n",
    "    if nb_de_chances == 0:\n",
    "        print(\"Oh non ! Tu as perdu le jeu...\")\n",
    "        break\n",
    "    else:\n",
    "        nb_de_chances -= 1\n",
    "        print(\"Dommage ! Il te reste {} chances\".format(nb_de_chances))\n",
    "        question1 = input(\"Combien de fois la France a gagné la coupe du monde ?\")"
   ]
  },
  {
   "cell_type": "code",
   "execution_count": 3,
   "metadata": {},
   "outputs": [
    {
     "name": "stdout",
     "output_type": "stream",
     "text": [
      "Quand a été fondé Apple1976\n"
     ]
    }
   ],
   "source": [
    "if nb_de_chances > 0:\n",
    "    question2 = input(\"Quand a été fondé Apple\")\n",
    "    while question2 != \"1976\":\n",
    "        if nb_de_chances == 0:\n",
    "            print(\"Oh non ! Tu as perdu le jeu...\")\n",
    "            break\n",
    "        else:\n",
    "            nb_de_chances -=1\n",
    "            print(\"Dommage ! Il te reste {} chances\".format(nb_de_chances))\n",
    "            question2 = input(\"Quand a été fondé Apple ?\")"
   ]
  },
  {
   "cell_type": "code",
   "execution_count": 5,
   "metadata": {},
   "outputs": [
    {
     "name": "stdout",
     "output_type": "stream",
     "text": [
      "Qui a fondé SpaceXelon musk \n",
      "Dommage ! Il te reste 1 chances\n",
      "Qui a fondé SpaceXelon musk\n",
      "Bravo ! Tu as gagné le quiz !\n"
     ]
    }
   ],
   "source": [
    "if nb_de_chances >0:\n",
    "    question3 = input(\"Qui a fondé SpaceX\")\n",
    "    question3 = question3.lower()\n",
    "    while question3 != \"elon musk\":\n",
    "        if nb_de_chances == 0:\n",
    "            print(\"Oh non ! Tu as perdu le jeu...\")\n",
    "            break\n",
    "        else:\n",
    "            nb_de_chances -=1\n",
    "            print(\"Dommage ! Il te reste {} chances\".format(nb_de_chances))\n",
    "            question3 = input(\"Qui a fondé SpaceX\")\n",
    "            question3.lower() \n",
    "        if question3 == \"elon musk\":\n",
    "            print(\"Bravo ! Tu as gagné le quiz !\") "
   ]
  },
  {
   "cell_type": "code",
   "execution_count": null,
   "metadata": {},
   "outputs": [],
   "source": []
  }
 ],
 "metadata": {
  "kernelspec": {
   "display_name": "Python 3",
   "language": "python",
   "name": "python3"
  },
  "language_info": {
   "codemirror_mode": {
    "name": "ipython",
    "version": 3
   },
   "file_extension": ".py",
   "mimetype": "text/x-python",
   "name": "python",
   "nbconvert_exporter": "python",
   "pygments_lexer": "ipython3",
   "version": "3.7.1"
  }
 },
 "nbformat": 4,
 "nbformat_minor": 2
}
