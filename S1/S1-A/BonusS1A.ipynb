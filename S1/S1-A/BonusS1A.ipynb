{
 "cells": [
  {
   "cell_type": "markdown",
   "metadata": {},
   "source": [
    "# Exercice Bonus : le mot de passe \n",
    "\n",
    "Voir le détail de la consigne [dans le drive](https://docs.google.com/document/d/1u3RNNQmYBOfyycZu8wI3D8rGz7tv3pXMnP_6DwVWMKM/edit#). "
   ]
  },
  {
   "cell_type": "code",
   "execution_count": 2,
   "metadata": {},
   "outputs": [
    {
     "name": "stdout",
     "output_type": "stream",
     "text": [
      "quel est le mot de passe ?test\n",
      "Ceci n'est pas le mot de passe\n",
      "quel est le mot de passe ?jedha\n",
      "tu es bon coco\n"
     ]
    }
   ],
   "source": [
    "mdp = input(\"quel est le mot de passe ?\")\n",
    "while mdp != \"jedha\":\n",
    "    print(\"Ceci n'est pas le mot de passe\")\n",
    "    mdp = input(\"quel est le mot de passe ?\")\n",
    "    if mdp==\"jedha\": print(\"tu es bon coco\")"
   ]
  },
  {
   "cell_type": "code",
   "execution_count": null,
   "metadata": {},
   "outputs": [],
   "source": []
  }
 ],
 "metadata": {
  "kernelspec": {
   "display_name": "Python 3",
   "language": "python",
   "name": "python3"
  },
  "language_info": {
   "codemirror_mode": {
    "name": "ipython",
    "version": 3
   },
   "file_extension": ".py",
   "mimetype": "text/x-python",
   "name": "python",
   "nbconvert_exporter": "python",
   "pygments_lexer": "ipython3",
   "version": "3.7.1"
  }
 },
 "nbformat": 4,
 "nbformat_minor": 2
}
