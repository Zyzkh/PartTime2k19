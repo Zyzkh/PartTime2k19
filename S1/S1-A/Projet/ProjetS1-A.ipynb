{
 "cells": [
  {
   "cell_type": "markdown",
   "metadata": {},
   "source": [
    "# Projet S1-A\n"
   ]
  },
  {
   "cell_type": "code",
   "execution_count": 2,
   "metadata": {},
   "outputs": [
    {
     "name": "stdout",
     "output_type": "stream",
     "text": [
      "il vous reste 3 chances\n",
      "Combien de fois la France a gagné la coupe du monde ?2\n",
      "Bravo, vous avez trouvé\n",
      "Quand est ce qu'a été fondé Apple ?1976\n",
      "Bravo, vous avez trouvé\n"
     ]
    }
   ],
   "source": [
    "for i in range(0, 3):\n",
    "    print(\"il vous reste {} chances\".format(3 - i))\n",
    "    question = input(\"Combien de fois la France a gagné la coupe du monde ?\")\n",
    "    if question == \"2\":\n",
    "        print(\"Bravo, vous avez trouvé\")\n",
    "        chances_restantes = 3 - i\n",
    "        break\n",
    "    else:\n",
    "        if i == 2:\n",
    "            print(\"Ah, vous avez perdu le jeu...\")\n",
    "            chances_restantes = 0\n",
    "        else:\n",
    "            print(\"Dommage, vous n'avez pas la bonne réponse\")\n",
    "\n",
    "if chances_restantes >0:\n",
    "    for i in range(0,chances_restantes):\n",
    "        question = input(\"Quand est ce qu'a été fondé Apple ?\")\n",
    "        if question == \"1976\":\n",
    "            print(\"Bravo, vous avez trouvé\")\n",
    "            chances_restantes = chances_restantes - i\n",
    "            break\n",
    "        else:\n",
    "            if i == 2:\n",
    "                print(\"Ah, vous avez perdu le jeu...\")\n",
    "            else:\n",
    "                print(\"Dommage, vous n'avez pas la bonne réponse\")\n",
    "                print(\"il vous reste {} chances\".format(chances_restantes - i -1))\n",
    "\n"
   ]
  },
  {
   "cell_type": "code",
   "execution_count": 3,
   "metadata": {},
   "outputs": [
    {
     "name": "stdout",
     "output_type": "stream",
     "text": [
      "Combien de vies possède un chat ?9\n",
      "Bravo, vous avez trouvé\n"
     ]
    }
   ],
   "source": [
    "if chances_restantes >0:\n",
    "    for i in range(0,chances_restantes):\n",
    "        question = input(\"Combien de vies possède un chat ?\")\n",
    "        if question == \"9\":\n",
    "            print(\"Bravo, vous avez trouvé\")\n",
    "            chances_restantes = chances_restantes - i\n",
    "            break\n",
    "        else:\n",
    "            if i == 2:\n",
    "                print(\"Ah, vous avez perdu le jeu...\")\n",
    "            else:\n",
    "                print(\"Dommage, vous n'avez pas la bonne réponse\")\n",
    "                print(\"il vous reste {} chances\".format(chances_restantes - i -1))\n",
    "                "
   ]
  },
  {
   "cell_type": "code",
   "execution_count": 4,
   "metadata": {},
   "outputs": [
    {
     "name": "stdout",
     "output_type": "stream",
     "text": [
      "Bravo ! Vous avez gagné le quiz\n"
     ]
    }
   ],
   "source": [
    "if chances_restantes > 0:\n",
    "    print(\"Bravo ! Vous avez gagné le quiz\")"
   ]
  },
  {
   "cell_type": "markdown",
   "metadata": {},
   "source": []
  }
 ],
 "metadata": {
  "kernelspec": {
   "display_name": "Python 3",
   "language": "python",
   "name": "python3"
  },
  "language_info": {
   "codemirror_mode": {
    "name": "ipython",
    "version": 3
   },
   "file_extension": ".py",
   "mimetype": "text/x-python",
   "name": "python",
   "nbconvert_exporter": "python",
   "pygments_lexer": "ipython3",
   "version": "3.7.1"
  }
 },
 "nbformat": 4,
 "nbformat_minor": 2
}
