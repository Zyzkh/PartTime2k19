{
 "cells": [
  {
   "cell_type": "markdown",
   "metadata": {},
   "source": [
    "# Datetime \n"
   ]
  },
  {
   "cell_type": "code",
   "execution_count": 1,
   "metadata": {},
   "outputs": [],
   "source": [
    "import datetime as dt\n",
    "\n",
    "def rappel():\n",
    "    print(\"N'oublie pas le Tennis !\")\n",
    "\n",
    "aujourdhui = dt.datetime.today()\n",
    "tennis = dt.datetime(2018, 7, 7, 15,30,00)\n",
    "\n",
    "if aujourdhui + dt.timedelta(0,0,0,0,0,3) == tennis:\n",
    "    rappel()"
   ]
  },
  {
   "cell_type": "code",
   "execution_count": 2,
   "metadata": {},
   "outputs": [],
   "source": [
    "#from datetime import timedelta\n",
    "def rappel2():\n",
    "    print(\"N'oublie pas le Tennis !\")\n",
    "\n",
    "aujourdhui = dt.datetime.today()\n",
    "first_tennis = dt.datetime(2018, 7, 7, 15,30,00)\n",
    "last_tennis = dt.datetime(2018, 7, 28, 15,30,00)\n",
    "\n",
    "#On ne peut pas itérer avec des boucles for sur les datetime. \n",
    "#En revanche, en donnant une date de début et une date de fin, on peut itérer avec une boucle while.\n",
    "while first_tennis < last_tennis: \n",
    "    first_tennis += dt.timedelta(7)\n",
    "    if aujourdhui + dt.timedelta(0,0,0,0,0,3) == first_tennis:\n",
    "        rappel()\n"
   ]
  },
  {
   "cell_type": "raw",
   "metadata": {},
   "source": []
  }
 ],
 "metadata": {
  "kernelspec": {
   "display_name": "Python 3",
   "language": "python",
   "name": "python3"
  },
  "language_info": {
   "codemirror_mode": {
    "name": "ipython",
    "version": 3
   },
   "file_extension": ".py",
   "mimetype": "text/x-python",
   "name": "python",
   "nbconvert_exporter": "python",
   "pygments_lexer": "ipython3",
   "version": "3.7.1"
  }
 },
 "nbformat": 4,
 "nbformat_minor": 2
}
