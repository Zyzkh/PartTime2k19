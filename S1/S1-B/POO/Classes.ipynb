{
 "cells": [
  {
   "cell_type": "markdown",
   "metadata": {},
   "source": [
    "# Les classes \n"
   ]
  },
  {
   "cell_type": "code",
   "execution_count": 1,
   "metadata": {},
   "outputs": [],
   "source": [
    "'''\n",
    "Les mathématiques, en général, on n’aime pas en faire. \n",
    "Surtout lorsqu’il s’agit de répéter des opérations, encore, encore et encore. \n",
    "Soyons de vrais paresseux et créons une classe qui s’occupera de faires les opérations qu’on veut pour nous.\n",
    "\n",
    "-Créez une classe qu’on appellera “math”\n",
    "-Cette classe ne prendra que des méthodes comme attribut\n",
    "-Créez une méthode qui calculera la racine carrée de n’importe quel nombre\n",
    "-Créez une méthode qui calculera la moyenne de n’importe quelle liste de nombres\n",
    "-Créez une méthode pour savoir si un nombre est pair ou impair\n",
    "-Enfin créez un méthode qui donnera la somme totale d’une liste de nombres\n",
    "'''\n",
    "class math:\n",
    "    def sqrt(nombre):\n",
    "        nombre = nombre ** (1/2)\n",
    "        print(nombre)\n",
    "\n",
    "    def moyenne(*chiffres):\n",
    "        somme = 0\n",
    "        nb_de_chiffres = 0\n",
    "        for chiffre in chiffres:\n",
    "            somme += chiffre\n",
    "            nb_de_chiffres += 1\n",
    "\n",
    "        moyenne = somme/nb_de_chiffres\n",
    "        print(moyenne)\n",
    "\n",
    "    def parite(nombre):\n",
    "        if type(nombre/2) == 'int':\n",
    "            print(\"{} est pair\".format(nombre))\n",
    "        else:\n",
    "            print(\"{} est impair\".format(nombre))\n",
    "\n",
    "    def sum(*chiffres):\n",
    "        somme = 0\n",
    "        for chiffre in chiffres:\n",
    "            somme += chiffre\n",
    "        print(somme)"
   ]
  },
  {
   "cell_type": "code",
   "execution_count": 3,
   "metadata": {},
   "outputs": [
    {
     "data": {
      "text/plain": [
       "<__main__.math at 0x10425e9b0>"
      ]
     },
     "execution_count": 3,
     "metadata": {},
     "output_type": "execute_result"
    }
   ],
   "source": [
    "math() "
   ]
  },
  {
   "cell_type": "code",
   "execution_count": 4,
   "metadata": {},
   "outputs": [
    {
     "name": "stdout",
     "output_type": "stream",
     "text": [
      "3.0\n"
     ]
    }
   ],
   "source": [
    "nb=9\n",
    "math.sqrt(nb)"
   ]
  },
  {
   "cell_type": "code",
   "execution_count": 3,
   "metadata": {},
   "outputs": [
    {
     "name": "stdout",
     "output_type": "stream",
     "text": [
      "13.333333333333334\n"
     ]
    }
   ],
   "source": [
    "tab = [10,10,20]\n",
    "math.moyenne(*tab)\n",
    "# si on fait juste : math.moyenne(tab) marche pas \n",
    "# ----> packing et l'unpacking en python (liste --> juste des éléments)"
   ]
  },
  {
   "cell_type": "code",
   "execution_count": 5,
   "metadata": {},
   "outputs": [],
   "source": [
    "'''\n",
    "En Data Science, il arrive souvent qu’il y ait des valeurs manquantes dans un dataset. Voyons comment on peut créer une classe qui va nous permettre de remplacer cette valeur manquante par la moyenne des valeurs de la liste \n",
    "\n",
    "-Créez une classe qu’on appellera Imputer\n",
    "-Pour simplifier l’exercice, on ne traitera qu’avec des listes pour l’instant\n",
    "-Notre classe prendra un attribut qu’on appellera liste (utiliser l'argument self)\n",
    "-Créez une fonction avg() qui d’abord retirera la valeur manquante puis la remplacera par la moyenne de la liste\n",
    "\n",
    "'''\n",
    "\n",
    "class Imputer:\n",
    "    def __init__(self, liste):\n",
    "        self.liste = liste\n",
    "\n",
    "    def avg(self):\n",
    "        sum = 0\n",
    "        avg_to_insert = []\n",
    "        for i in range(len(self.liste)):\n",
    "            if self.liste[i] is None:\n",
    "                avg_to_insert += [i]\n",
    "            else:\n",
    "                sum += self.liste[i]\n",
    "\n",
    "        for i in avg_to_insert:\n",
    "            self.liste[i] = sum/(len(self.liste) - len(avg_to_insert))\n",
    "        print(self.liste)\n"
   ]
  },
  {
   "cell_type": "code",
   "execution_count": 6,
   "metadata": {},
   "outputs": [
    {
     "name": "stdout",
     "output_type": "stream",
     "text": [
      "[4.0, 2, 4, 6, 4.0]\n"
     ]
    }
   ],
   "source": [
    "liste = [None,2,4,6,None]\n",
    "instance = Imputer(liste)\n",
    "instance.avg()"
   ]
  },
  {
   "cell_type": "code",
   "execution_count": null,
   "metadata": {},
   "outputs": [],
   "source": []
  }
 ],
 "metadata": {
  "kernelspec": {
   "display_name": "Python 3",
   "language": "python",
   "name": "python3"
  },
  "language_info": {
   "codemirror_mode": {
    "name": "ipython",
    "version": 3
   },
   "file_extension": ".py",
   "mimetype": "text/x-python",
   "name": "python",
   "nbconvert_exporter": "python",
   "pygments_lexer": "ipython3",
   "version": "3.7.1"
  }
 },
 "nbformat": 4,
 "nbformat_minor": 2
}
