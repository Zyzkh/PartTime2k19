{
 "cells": [
  {
   "cell_type": "markdown",
   "metadata": {},
   "source": [
    "# Amélioration de la class Imputer "
   ]
  },
  {
   "cell_type": "code",
   "execution_count": 3,
   "metadata": {},
   "outputs": [],
   "source": [
    "class Imputer:\n",
    "    #constructeur de la class\n",
    "    def __init__(self, liste, strategy = \"mean\"):\n",
    "        self.liste = liste   \n",
    "        self.strategy = strategy\n",
    "    \n",
    "    #les fonctions\n",
    "    def avg(self):\n",
    "        sum = 0\n",
    "        avg_to_insert = []\n",
    "        for i in range(len(self.liste)):\n",
    "            if self.liste[i] is None:\n",
    "                avg_to_insert += [i]\n",
    "            else:\n",
    "                sum += self.liste[i]\n",
    "        for i in avg_to_insert:\n",
    "            self.liste[i] = sum/(len(self.liste)- len(avg_to_insert))\n",
    "        return self.liste\n",
    "\n",
    "    def median(self):\n",
    "        avg_to_insert = []\n",
    "        for i in range(len(self.liste)):\n",
    "            if self.liste[i] is None:\n",
    "                avg_to_insert += [i]\n",
    "        new_list = [i for i in self.liste if i is not None]\n",
    "        new_list.sort()\n",
    "        if len(new_list) %2 ==0:\n",
    "            median = (new_list[len(new_list)//2] + new_list[len(new_list)//2 - 1])/2\n",
    "        else : \n",
    "            median = new_list[len(new_list)//2]\n",
    "        self.liste = [median if x== None else x for x in self.liste ]\n",
    "        return print(self.liste)\n",
    "\n",
    "    \n",
    "        if self.strategy == \"mean\":\n",
    "            avg(self)\n",
    "        else:\n",
    "            median(self)\n",
    "\n",
    "        if self.strategy == \"mean\":\n",
    "            avg(self)\n",
    "        elif self.strategy == \"median\":\n",
    "            median(self)\n",
    "        else:\n",
    "            print(\"Ceci n'est pas une valeur correct pour le paramètre strategy, veuillez entrer mean ou median\")\n",
    "\n",
    "        "
   ]
  },
  {
   "cell_type": "code",
   "execution_count": 4,
   "metadata": {},
   "outputs": [],
   "source": [
    "liste1 = [None,2,4,6,None]\n",
    "liste2 = [None,2,4,6,None]\n",
    "liste3 = [None,2,4,5,None]\n",
    "instance1 = Imputer(liste = liste1, strategy = \"mean\")\n",
    "instance2 = Imputer(liste = liste2, strategy = \"median\")\n",
    "instance3 = Imputer(liste = liste3, strategy = \"lol\")"
   ]
  },
  {
   "cell_type": "code",
   "execution_count": 15,
   "metadata": {},
   "outputs": [
    {
     "data": {
      "text/plain": [
       "[4.0, 2, 4, 6, 4.0]"
      ]
     },
     "execution_count": 15,
     "metadata": {},
     "output_type": "execute_result"
    }
   ],
   "source": [
    "instance1.avg()"
   ]
  },
  {
   "cell_type": "code",
   "execution_count": 14,
   "metadata": {},
   "outputs": [
    {
     "name": "stdout",
     "output_type": "stream",
     "text": [
      "[3.6666666666666665, 2, 4, 5, 3.6666666666666665]\n"
     ]
    }
   ],
   "source": [
    "instance3.median()"
   ]
  },
  {
   "cell_type": "code",
   "execution_count": null,
   "metadata": {},
   "outputs": [],
   "source": []
  }
 ],
 "metadata": {
  "kernelspec": {
   "display_name": "Python 3",
   "language": "python",
   "name": "python3"
  },
  "language_info": {
   "codemirror_mode": {
    "name": "ipython",
    "version": 3
   },
   "file_extension": ".py",
   "mimetype": "text/x-python",
   "name": "python",
   "nbconvert_exporter": "python",
   "pygments_lexer": "ipython3",
   "version": "3.7.1"
  }
 },
 "nbformat": 4,
 "nbformat_minor": 2
}
