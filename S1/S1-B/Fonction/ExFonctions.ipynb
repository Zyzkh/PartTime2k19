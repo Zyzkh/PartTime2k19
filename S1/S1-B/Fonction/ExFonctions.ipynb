{
 "cells": [
  {
   "cell_type": "markdown",
   "metadata": {},
   "source": [
    "# Les structures de données \n",
    "\n",
    "\n",
    "Les consignes se trouvent [ici](https://docs.google.com/document/d/19jpWKsNZnwunERNRPLstyCjoK8I9024oIt2F_-oRAuA/edit#heading=h.n8hnv4gk4546)"
   ]
  },
  {
   "cell_type": "code",
   "execution_count": 1,
   "metadata": {},
   "outputs": [
    {
     "name": "stdout",
     "output_type": "stream",
     "text": [
      "Bonjour\n",
      "Je\n",
      "Michel\n",
      "m'appelle\n",
      "['Bonjour', 'Je', \"m'appelle\", 'Michel']\n"
     ]
    }
   ],
   "source": [
    "#les listes \n",
    "michel = [\"Bonjour\", \"Je\", \"Michel\", \"m'appelle\"]\n",
    "for mot in michel:\n",
    "    print(mot)\n",
    "\n",
    "#prenom = michel.pop(2)\n",
    "#michel.append(prenom)\n",
    "michel[2], michel[3] = michel[3], michel[2]"
   ]
  },
  {
   "cell_type": "code",
   "execution_count": 4,
   "metadata": {},
   "outputs": [
    {
     "data": {
      "text/plain": [
       "list"
      ]
     },
     "execution_count": 4,
     "metadata": {},
     "output_type": "execute_result"
    }
   ],
   "source": [
    "type(michel[0:2]) "
   ]
  },
  {
   "cell_type": "code",
   "execution_count": 2,
   "metadata": {},
   "outputs": [
    {
     "data": {
      "text/plain": [
       "[9, 12, 16, 34, 58]"
      ]
     },
     "execution_count": 2,
     "metadata": {},
     "output_type": "execute_result"
    }
   ],
   "source": [
    "#les listes (suites) \n",
    "age = [12,16,34,58,9]\n",
    "ordre = age.pop(4)\n",
    "age.insert(0,ordre)\n",
    "age"
   ]
  },
  {
   "cell_type": "code",
   "execution_count": 3,
   "metadata": {},
   "outputs": [
    {
     "name": "stdout",
     "output_type": "stream",
     "text": [
      "import ok\n",
      "('name', 'Luke Skywalker')\n",
      "('height', '172')\n",
      "('mass', '77')\n",
      "('hair_color', 'blond')\n",
      "('skin_color', 'fair')\n",
      "('eye_color', 'blue')\n",
      "('birth_year', '19BBY')\n",
      "('gender', 'male')\n",
      "('homeworld', 'https://swapi.co/api/planets/1/')\n",
      "('films', ['https://swapi.co/api/films/2/', 'https://swapi.co/api/films/6/', 'https://swapi.co/api/films/3/', 'https://swapi.co/api/films/1/', 'https://swapi.co/api/films/7/'])\n",
      "('species', ['https://swapi.co/api/species/1/'])\n",
      "('vehicles', ['https://swapi.co/api/vehicles/14/', 'https://swapi.co/api/vehicles/30/'])\n",
      "('starships', ['https://swapi.co/api/starships/12/', 'https://swapi.co/api/starships/22/'])\n",
      "('created', '2014-12-09T13:50:51.644000Z')\n",
      "('edited', '2014-12-20T21:17:56.891000Z')\n",
      "('url', 'https://swapi.co/api/people/1/')\n",
      "************************************************** \n",
      "\n",
      "\n",
      " Affichage des informations de l'API : \n",
      "\n",
      "Luke Skywalker mesure 172 cm et pèse 77 kg. Il est né en 19BBY\n"
     ]
    }
   ],
   "source": [
    "#les dictionnaires \n",
    "import requests\n",
    "r = requests.get(\"https://swapi.co/api/people/1/\")\n",
    "dic = r.json()\n",
    "print('import ok')\n",
    "\n",
    "for item in dic.items():\n",
    "    print(item)\n",
    "\n",
    "\n",
    "print(\"************************************************** \\n\")\n",
    "print(\"\\n Affichage des informations de l'API : \\n\")\n",
    "if dic[\"gender\"] == \"male\":\n",
    "    print(\"{} mesure {} cm et pèse {} kg. Il est né en {}\".format(dic[\"name\"], dic[\"height\"], dic[\"mass\"], dic[\"birth_year\"]))\n",
    "else:\n",
    "    print(\"{} mesure {} cm et pèse {} kg. Elle est née en {}\".format(dic[\"name\"], dic[\"height\"], dic[\"mass\"], dic[\"birth_year\"]))"
   ]
  },
  {
   "cell_type": "code",
   "execution_count": null,
   "metadata": {},
   "outputs": [],
   "source": []
  }
 ],
 "metadata": {
  "kernelspec": {
   "display_name": "Python 3",
   "language": "python",
   "name": "python3"
  },
  "language_info": {
   "codemirror_mode": {
    "name": "ipython",
    "version": 3
   },
   "file_extension": ".py",
   "mimetype": "text/x-python",
   "name": "python",
   "nbconvert_exporter": "python",
   "pygments_lexer": "ipython3",
   "version": "3.7.1"
  }
 },
 "nbformat": 4,
 "nbformat_minor": 2
}
